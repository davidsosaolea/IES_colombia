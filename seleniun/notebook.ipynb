{
 "cells": [
  {
   "cell_type": "code",
   "execution_count": 3,
   "metadata": {},
   "outputs": [],
   "source": [
    "from selenium import webdriver\n",
    "from selenium.webdriver.common.by import By\n",
    "from selenium.webdriver.common.keys import Keys\n",
    "import time"
   ]
  },
  {
   "cell_type": "code",
   "execution_count": 5,
   "metadata": {},
   "outputs": [],
   "source": [
    "# Inicializar el controlador de Chrome\n",
    "driver = webdriver.Chrome()\n",
    "\n",
    "# Establecer la ruta de descarga personalizada\n",
    "download_path = '/home/bbchanchis/IES_colombia/seleniun/data'\n",
    "prefs = {\n",
    "    'download.default_directory': download_path,\n",
    "    'download.prompt_for_download': False,\n",
    "    'download.directory_upgrade': True\n",
    "}\n",
    "# Crear una instancia de opciones del controlador de Chrome\n",
    "chrome_options = webdriver.ChromeOptions()\n",
    "chrome_options.add_experimental_option('prefs', prefs)\n",
    "#chrome_options.add_argument('--headless')\n",
    "\n",
    "# Inicializar el controlador de Chrome con las opciones\n",
    "driver = webdriver.Chrome(options=chrome_options)\n",
    "\n",
    "# Abrir el sitio web \n",
    "driver.get('https://snies.mineducacion.gov.co/portal/ESTADISTICAS/Bases-consolidadas/')\n",
    "\n",
    "# Encontrar el campo de búsqueda y escribir \n",
    "campo_busqueda = driver.find_element(By.CSS_SELECTOR, 'input[type=\"search\"]')\n",
    "campo_busqueda.send_keys('estudiantes inscritos')\n",
    "\n",
    "# Presionar Enter para realizar la búsqueda\n",
    "campo_busqueda.send_keys(Keys.ENTER)\n",
    "\n",
    "# Simular el desplazamiento de la página hacia abajo\n",
    "for _ in range(15): \n",
    "    driver.find_element(By.TAG_NAME, 'body').send_keys(Keys.ARROW_DOWN)\n",
    "    \n",
    "time.sleep(2)    \n",
    "\n",
    "# Obtener todos los enlaces que contienen \"Estudiantes inscritos\"\n",
    "enlaces_estudiantes = driver.find_elements(By.PARTIAL_LINK_TEXT, 'Estudiantes')\n",
    "\n",
    "# Hacer clic en cada enlace encontrado\n",
    "for enlace in enlaces_estudiantes:\n",
    "    enlace.click()\n",
    "    time.sleep(1)  # Esperar 1 segundo después de hacer clic en cada enlace\n"
   ]
  }
 ],
 "metadata": {
  "kernelspec": {
   "display_name": "venv",
   "language": "python",
   "name": "python3"
  },
  "language_info": {
   "codemirror_mode": {
    "name": "ipython",
    "version": 3
   },
   "file_extension": ".py",
   "mimetype": "text/x-python",
   "name": "python",
   "nbconvert_exporter": "python",
   "pygments_lexer": "ipython3",
   "version": "3.10.6"
  },
  "orig_nbformat": 4
 },
 "nbformat": 4,
 "nbformat_minor": 2
}
